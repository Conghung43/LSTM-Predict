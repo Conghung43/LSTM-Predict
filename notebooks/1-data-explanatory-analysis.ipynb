{
 "cells": [
  {
   "cell_type": "markdown",
   "metadata": {},
   "source": [
    "# LSTM Time Series - Stock Price Prediction\n",
    "## Part 1 - Data Explanatory Analysis\n",
    "In this notebook, we load the raw data file containing the historical daily prices of Google stocks and explore it to select a specific period for analysis/prediction.\n",
    "\n",
    "> **INPUT**: The raw data file of all available stock prices for Google, as downloaded from its original source. <br/>\n",
    "> **OUTPUT**: The data of the targeted period for analysis, stored in an intermediary location for next steps."
   ]
  },
  {
   "cell_type": "code",
   "execution_count": null,
   "metadata": {},
   "outputs": [],
   "source": []
  }
 ],
 "metadata": {
  "language_info": {
   "name": "python"
  }
 },
 "nbformat": 4,
 "nbformat_minor": 2
}
