{
 "cells": [
  {
   "cell_type": "markdown",
   "metadata": {},
   "source": [
    "# LSTM Time Series - Stock Price Prediction\n",
    "## Part 2 - Data Preprocessing\n",
    "This notebook focuses on processing the filtered dataset containing the historical prices of Google stocks over the past five years.\n",
    "\n",
    "> **INPUT**: Filtered dataset containing Google's stock prices from the last five years, obtained from the previous phase. <br/>\n",
    "> **OUTPUT**: Preprocessed and transformed data divided into training, validation, and testing subsets, stored in an interim location for the training phase."
   ]
  },
  {
   "cell_type": "markdown",
   "metadata": {},
   "source": [
    "### 1. INITIALIZATION"
   ]
  },
  {
   "cell_type": "code",
   "execution_count": 590,
   "metadata": {},
   "outputs": [],
   "source": [
    "# Import necessary libraries and modules\n",
    "import pandas as pd\n",
    "from sklearn.preprocessing import MinMaxScaler\n",
    "import matplotlib.pyplot as plt\n",
    "import joblib\n",
    "import matplotlib.dates as mdates"
   ]
  },
  {
   "cell_type": "code",
   "execution_count": 591,
   "metadata": {},
   "outputs": [],
   "source": [
    "# Set output width\n",
    "pd.set_option(\"display.width\", 120)"
   ]
  },
  {
   "cell_type": "markdown",
   "metadata": {},
   "source": [
    "### 2. LOADING DATASET"
   ]
  },
  {
   "cell_type": "code",
   "execution_count": 592,
   "metadata": {},
   "outputs": [],
   "source": [
    "# Prepare data file location and name\n",
    "data_file_location = \"..//data//interim//\"\n",
    "data_file_name = \"google_stock_price_recent\"\n",
    "data_file_ext = \"csv\"\n",
    "\n",
    "# Load data file\n",
    "data = pd.read_csv('/Users/nguyenconghung/Documents/PYTHON/lstm-stock-price-prediction/data/interim/2303_stock_price_recent.csv')"
   ]
  },
  {
   "cell_type": "code",
   "execution_count": 593,
   "metadata": {},
   "outputs": [
    {
     "data": {
      "text/plain": [
       "(969, 8)"
      ]
     },
     "execution_count": 593,
     "metadata": {},
     "output_type": "execute_result"
    }
   ],
   "source": [
    "# Check loaded data shape\n",
    "data.shape"
   ]
  },
  {
   "cell_type": "code",
   "execution_count": 594,
   "metadata": {},
   "outputs": [
    {
     "data": {
      "text/html": [
       "<div>\n",
       "<style scoped>\n",
       "    .dataframe tbody tr th:only-of-type {\n",
       "        vertical-align: middle;\n",
       "    }\n",
       "\n",
       "    .dataframe tbody tr th {\n",
       "        vertical-align: top;\n",
       "    }\n",
       "\n",
       "    .dataframe thead th {\n",
       "        text-align: right;\n",
       "    }\n",
       "</style>\n",
       "<table border=\"1\" class=\"dataframe\">\n",
       "  <thead>\n",
       "    <tr style=\"text-align: right;\">\n",
       "      <th></th>\n",
       "      <th>Date</th>\n",
       "      <th>Open</th>\n",
       "      <th>High</th>\n",
       "      <th>Low</th>\n",
       "      <th>Close</th>\n",
       "      <th>Volume</th>\n",
       "      <th>stoch_rsi_k</th>\n",
       "      <th>stoch_rsi_d</th>\n",
       "    </tr>\n",
       "  </thead>\n",
       "  <tbody>\n",
       "    <tr>\n",
       "      <th>0</th>\n",
       "      <td>2021-03-25</td>\n",
       "      <td>37.76</td>\n",
       "      <td>39.17</td>\n",
       "      <td>37.56</td>\n",
       "      <td>39.09</td>\n",
       "      <td>161223209</td>\n",
       "      <td>0.914104</td>\n",
       "      <td>0.864899</td>\n",
       "    </tr>\n",
       "    <tr>\n",
       "      <th>1</th>\n",
       "      <td>2021-03-26</td>\n",
       "      <td>39.97</td>\n",
       "      <td>40.17</td>\n",
       "      <td>39.65</td>\n",
       "      <td>39.97</td>\n",
       "      <td>222415849</td>\n",
       "      <td>0.914104</td>\n",
       "      <td>0.914104</td>\n",
       "    </tr>\n",
       "    <tr>\n",
       "      <th>2</th>\n",
       "      <td>2021-03-29</td>\n",
       "      <td>40.65</td>\n",
       "      <td>40.97</td>\n",
       "      <td>39.61</td>\n",
       "      <td>39.65</td>\n",
       "      <td>156745319</td>\n",
       "      <td>0.976265</td>\n",
       "      <td>0.934824</td>\n",
       "    </tr>\n",
       "    <tr>\n",
       "      <th>3</th>\n",
       "      <td>2021-03-30</td>\n",
       "      <td>39.81</td>\n",
       "      <td>40.73</td>\n",
       "      <td>39.21</td>\n",
       "      <td>40.65</td>\n",
       "      <td>167739158</td>\n",
       "      <td>0.976265</td>\n",
       "      <td>0.955545</td>\n",
       "    </tr>\n",
       "    <tr>\n",
       "      <th>4</th>\n",
       "      <td>2021-03-31</td>\n",
       "      <td>40.25</td>\n",
       "      <td>41.13</td>\n",
       "      <td>40.01</td>\n",
       "      <td>40.33</td>\n",
       "      <td>184149925</td>\n",
       "      <td>0.950179</td>\n",
       "      <td>0.967570</td>\n",
       "    </tr>\n",
       "  </tbody>\n",
       "</table>\n",
       "</div>"
      ],
      "text/plain": [
       "         Date   Open   High    Low  Close     Volume  stoch_rsi_k  stoch_rsi_d\n",
       "0  2021-03-25  37.76  39.17  37.56  39.09  161223209     0.914104     0.864899\n",
       "1  2021-03-26  39.97  40.17  39.65  39.97  222415849     0.914104     0.914104\n",
       "2  2021-03-29  40.65  40.97  39.61  39.65  156745319     0.976265     0.934824\n",
       "3  2021-03-30  39.81  40.73  39.21  40.65  167739158     0.976265     0.955545\n",
       "4  2021-03-31  40.25  41.13  40.01  40.33  184149925     0.950179     0.967570"
      ]
     },
     "execution_count": 594,
     "metadata": {},
     "output_type": "execute_result"
    }
   ],
   "source": [
    "# Check loaded data head\n",
    "data.head()"
   ]
  },
  {
   "cell_type": "code",
   "execution_count": 595,
   "metadata": {},
   "outputs": [
    {
     "data": {
      "text/plain": [
       "Date            object\n",
       "Open           float64\n",
       "High           float64\n",
       "Low            float64\n",
       "Close          float64\n",
       "Volume           int64\n",
       "stoch_rsi_k    float64\n",
       "stoch_rsi_d    float64\n",
       "dtype: object"
      ]
     },
     "execution_count": 595,
     "metadata": {},
     "output_type": "execute_result"
    }
   ],
   "source": [
    "# Check columns types\n",
    "data.dtypes"
   ]
  },
  {
   "cell_type": "markdown",
   "metadata": {},
   "source": [
    "### 3. DATA PREPROCESSING"
   ]
  },
  {
   "cell_type": "markdown",
   "metadata": {},
   "source": [
    "#### Validate Data Types"
   ]
  },
  {
   "cell_type": "code",
   "execution_count": 596,
   "metadata": {},
   "outputs": [
    {
     "data": {
      "text/plain": [
       "Date           datetime64[ns]\n",
       "Open                  float64\n",
       "High                  float64\n",
       "Low                   float64\n",
       "Close                 float64\n",
       "Volume                  int64\n",
       "stoch_rsi_k           float64\n",
       "stoch_rsi_d           float64\n",
       "dtype: object"
      ]
     },
     "execution_count": 596,
     "metadata": {},
     "output_type": "execute_result"
    }
   ],
   "source": [
    "# Convert date column to a valid Datetime format\n",
    "data[\"Date\"] = pd.to_datetime(data[\"Date\"])\n",
    "\n",
    "# Check column types\n",
    "data.dtypes"
   ]
  },
  {
   "cell_type": "markdown",
   "metadata": {},
   "source": [
    "#### Select Independent Features"
   ]
  },
  {
   "cell_type": "markdown",
   "metadata": {},
   "source": [
    "The objective of this analysis is to implement a multi-variant prediction, taking into account possible impact of several independent features such as the Open price, Close price and Volume on future stock price performance.\n",
    "\n",
    "Therefore, in this analysis, we will incorporate all the available variables: \n",
    "- stoch_rsiing price\n",
    "- Highest price\n",
    "- Lowest price\n",
    "- Closing price\n",
    "- Adjusted closing price\n",
    "- Trading volume\n",
    "\n",
    "These features will be utilized to forecast the future stoch_rsiing price."
   ]
  },
  {
   "cell_type": "markdown",
   "metadata": {},
   "source": [
    "data['stoch_rsi_d'] = stoch_rsi.stochrsi_d()\n",
    "<!-- data['MACD'] = df['MACD']\n",
    "data['Signal'] = df['Signal']\n",
    "data['Histogram'] = df['Histogram'] -->"
   ]
  },
  {
   "cell_type": "code",
   "execution_count": 597,
   "metadata": {},
   "outputs": [],
   "source": [
    "# Define selected features and target attribute\n",
    "features = ['Open', 'High', 'Low', 'Close', 'Volume',\"stoch_rsi_k\", 'stoch_rsi_d']\n",
    "target = \"Close\""
   ]
  },
  {
   "cell_type": "markdown",
   "metadata": {},
   "source": [
    "#### Create Train, Validation, and Test Datasets"
   ]
  },
  {
   "cell_type": "markdown",
   "metadata": {},
   "source": [
    "To monitor and assess the performance of our model, we will partition the recent stock price dataset into three segments: training, validation, and testing sets.\n",
    "\n",
    "The division will be structured as follows:\n",
    "- **Training dataset:** covering the period from the start of 2019 till June, 2023.\n",
    "- **Validation dataset:** representing the stock prices from July, 2023 till the end of 2023.\n",
    "- **Testing dataset:** representing the stock prices for the first two months of 2024."
   ]
  },
  {
   "cell_type": "code",
   "execution_count": 598,
   "metadata": {},
   "outputs": [],
   "source": [
    "# Define start and end time for each period\n",
    "train_end_date = pd.to_datetime(\"2023-11-30\")\n",
    "validate_start_date = pd.to_datetime(\"2023-12-01\")\n",
    "validate_end_date = pd.to_datetime(\"2024-09-30\")\n",
    "test_start_date = pd.to_datetime(\"2024-10-01\")\n",
    "test_end_date = pd.to_datetime(\"2025-3-21\")\n",
    "predict_start_date = pd.to_datetime(\"2025-3-20\")\n",
    "predic_end_date = pd.to_datetime(\"2025-3-22\")\n",
    "\n",
    "# Split dataset into training, validation, and testing\n",
    "data_train = data[data[\"Date\"] <= train_end_date][features]\n",
    "data_train_dates = data[data[\"Date\"] <= train_end_date][\"Date\"]\n",
    "data_validate = data[(data[\"Date\"] >= validate_start_date) & (data[\"Date\"] <= validate_end_date)][features]\n",
    "data_validate_dates = data[(data[\"Date\"] >= validate_start_date) & (data[\"Date\"] <= validate_end_date)][\"Date\"]\n",
    "data_test = data[(data[\"Date\"] >= test_start_date) & (data[\"Date\"] <= test_end_date)][features]\n",
    "data_test_dates = data[(data[\"Date\"] >= test_start_date) & (data[\"Date\"] <= test_end_date)][\"Date\"]\n",
    "\n",
    "data_predict = data[(data[\"Date\"] >= predict_start_date) & (data[\"Date\"] <= predic_end_date)][features]\n",
    "data_predict_dates = data[(data[\"Date\"] >= predict_start_date) & (data[\"Date\"] <= predic_end_date)][\"Date\"]"
   ]
  },
  {
   "cell_type": "code",
   "execution_count": 599,
   "metadata": {},
   "outputs": [
    {
     "name": "stdout",
     "output_type": "stream",
     "text": [
      "Training Set: (657, 7)\n",
      "Validation Set: (201, 7)\n",
      "Testing Set: (111, 7)\n",
      "Testing Set: (2, 7)\n"
     ]
    }
   ],
   "source": [
    "# Display the shape of each dataset\n",
    "print(f\"Training Set: {data_train.shape}\")\n",
    "print(f\"Validation Set: {data_validate.shape}\")\n",
    "print(f\"Testing Set: {data_test.shape}\")\n",
    "print(f\"Testing Set: {data_predict.shape}\")"
   ]
  },
  {
   "cell_type": "code",
   "execution_count": 600,
   "metadata": {},
   "outputs": [
    {
     "name": "stdout",
     "output_type": "stream",
     "text": [
      "Training Dataset:\n",
      "    Open   High    Low  Close     Volume  stoch_rsi_k  stoch_rsi_d\n",
      "0  37.76  39.17  37.56  39.09  161223209     0.914104     0.864899\n",
      "1  39.97  40.17  39.65  39.97  222415849     0.914104     0.914104\n",
      "2  40.65  40.97  39.61  39.65  156745319     0.976265     0.934824\n",
      "3  39.81  40.73  39.21  40.65  167739158     0.976265     0.955545\n",
      "4  40.25  41.13  40.01  40.33  184149925     0.950179     0.967570\n",
      "Validation Dataset:\n",
      "      Open   High    Low  Close    Volume  stoch_rsi_k  stoch_rsi_d\n",
      "657  46.42  47.08  46.42  47.08  52316739     0.167690     0.075946\n",
      "658  47.22  47.55  47.17  47.55  43958233     0.349789     0.182518\n",
      "659  47.17  47.17  46.61  46.61  56578688     0.374098     0.297192\n",
      "660  46.70  46.80  46.32  46.32  36927692     0.236481     0.320123\n",
      "661  46.42  46.51  45.80  45.90  36067025     0.024309     0.211629\n",
      "Testing Dataset:\n",
      "     Open  High   Low  Close    Volume  stoch_rsi_k  stoch_rsi_d\n",
      "858  53.6  54.2  53.6   53.7  24924409     0.392224     0.674793\n",
      "859  52.6  52.9  52.2   52.6  62671266     0.058891     0.391481\n",
      "860  53.0  53.3  52.3   52.9  43226644     0.050637     0.167251\n",
      "861  52.1  52.6  52.1   52.6  39630364     0.064740     0.058089\n",
      "862  52.3  52.5  51.7   51.9  42242680     0.064740     0.060039\n"
     ]
    }
   ],
   "source": [
    "# Display a summary of each dataset\n",
    "print(\"Training Dataset:\")\n",
    "print(data_train.head())\n",
    "print(\"Validation Dataset:\")\n",
    "print(data_validate.head())\n",
    "print(\"Testing Dataset:\")\n",
    "print(data_test.head())"
   ]
  },
  {
   "cell_type": "code",
   "execution_count": 601,
   "metadata": {},
   "outputs": [
    {
     "data": {
      "image/png": "[encoded data removed]",
      "text/plain": [
       "<Figure size 1800x600 with 1 Axes>"
      ]
     },
     "metadata": {},
     "output_type": "display_data"
    }
   ],
   "source": [
    "# Plot stock prices for each data split\n",
    "plt.figure(figsize=(18,6))\n",
    "# plt.plot(data_train_dates, data_train[\"Open\"], color=\"cornflowerblue\")\n",
    "# plt.plot(data_validate_dates, data_validate[\"Open\"], color=\"orange\")\n",
    "plt.plot(data_test_dates, data_test[\"Close\"], color=\"green\")\n",
    "plt.plot(data_predict_dates, data_predict[\"Close\"], color=\"red\")\n",
    "plt.legend([\"Train Data\", \"Validation Data\", \"Test Data\"])\n",
    "plt.title(\"Data Split for 2303 Stock Price\")\n",
    "plt.xlabel(\"Samples Over Time\")\n",
    "plt.ylabel(\"Price (TWD)\")\n",
    "plt.gca().xaxis.set_major_formatter(mdates.DateFormatter('%Y-%m'))\n",
    "plt.gca().xaxis.set_major_locator(mdates.MonthLocator(interval=2))\n",
    "plt.xticks(rotation=45)\n",
    "plt.grid()"
   ]
  },
  {
   "cell_type": "markdown",
   "metadata": {},
   "source": [
    "#### Data Scaling"
   ]
  },
  {
   "cell_type": "code",
   "execution_count": 602,
   "metadata": {},
   "outputs": [
    {
     "data": {
      "text/html": [
       "<div>\n",
       "<style scoped>\n",
       "    .dataframe tbody tr th:only-of-type {\n",
       "        vertical-align: middle;\n",
       "    }\n",
       "\n",
       "    .dataframe tbody tr th {\n",
       "        vertical-align: top;\n",
       "    }\n",
       "\n",
       "    .dataframe thead th {\n",
       "        text-align: right;\n",
       "    }\n",
       "</style>\n",
       "<table border=\"1\" class=\"dataframe\">\n",
       "  <thead>\n",
       "    <tr style=\"text-align: right;\">\n",
       "      <th></th>\n",
       "      <th>Open</th>\n",
       "      <th>High</th>\n",
       "      <th>Low</th>\n",
       "      <th>Close</th>\n",
       "      <th>Volume</th>\n",
       "      <th>stoch_rsi_k</th>\n",
       "      <th>stoch_rsi_d</th>\n",
       "    </tr>\n",
       "  </thead>\n",
       "  <tbody>\n",
       "    <tr>\n",
       "      <th>count</th>\n",
       "      <td>969.000000</td>\n",
       "      <td>969.000000</td>\n",
       "      <td>969.000000</td>\n",
       "      <td>969.000000</td>\n",
       "      <td>9.690000e+02</td>\n",
       "      <td>969.000000</td>\n",
       "      <td>969.000000</td>\n",
       "    </tr>\n",
       "    <tr>\n",
       "      <th>mean</th>\n",
       "      <td>45.129247</td>\n",
       "      <td>45.583560</td>\n",
       "      <td>44.633065</td>\n",
       "      <td>45.080640</td>\n",
       "      <td>9.055188e+07</td>\n",
       "      <td>0.509101</td>\n",
       "      <td>0.509706</td>\n",
       "    </tr>\n",
       "    <tr>\n",
       "      <th>std</th>\n",
       "      <td>5.618712</td>\n",
       "      <td>5.630334</td>\n",
       "      <td>5.573433</td>\n",
       "      <td>5.613978</td>\n",
       "      <td>7.800680e+07</td>\n",
       "      <td>0.335544</td>\n",
       "      <td>0.321900</td>\n",
       "    </tr>\n",
       "    <tr>\n",
       "      <th>min</th>\n",
       "      <td>31.090000</td>\n",
       "      <td>31.620000</td>\n",
       "      <td>30.910000</td>\n",
       "      <td>31.220000</td>\n",
       "      <td>0.000000e+00</td>\n",
       "      <td>0.000000</td>\n",
       "      <td>0.000000</td>\n",
       "    </tr>\n",
       "    <tr>\n",
       "      <th>25%</th>\n",
       "      <td>41.890000</td>\n",
       "      <td>42.470000</td>\n",
       "      <td>41.390000</td>\n",
       "      <td>41.770000</td>\n",
       "      <td>4.383352e+07</td>\n",
       "      <td>0.177771</td>\n",
       "      <td>0.196510</td>\n",
       "    </tr>\n",
       "    <tr>\n",
       "      <th>50%</th>\n",
       "      <td>44.780000</td>\n",
       "      <td>45.090000</td>\n",
       "      <td>44.340000</td>\n",
       "      <td>44.780000</td>\n",
       "      <td>6.386980e+07</td>\n",
       "      <td>0.531369</td>\n",
       "      <td>0.536655</td>\n",
       "    </tr>\n",
       "    <tr>\n",
       "      <th>75%</th>\n",
       "      <td>49.190000</td>\n",
       "      <td>49.540000</td>\n",
       "      <td>48.440000</td>\n",
       "      <td>49.070000</td>\n",
       "      <td>1.060646e+08</td>\n",
       "      <td>0.822193</td>\n",
       "      <td>0.810979</td>\n",
       "    </tr>\n",
       "    <tr>\n",
       "      <th>max</th>\n",
       "      <td>58.150000</td>\n",
       "      <td>59.730000</td>\n",
       "      <td>56.660000</td>\n",
       "      <td>58.070000</td>\n",
       "      <td>6.885352e+08</td>\n",
       "      <td>1.000000</td>\n",
       "      <td>1.000000</td>\n",
       "    </tr>\n",
       "  </tbody>\n",
       "</table>\n",
       "</div>"
      ],
      "text/plain": [
       "             Open        High         Low       Close        Volume  stoch_rsi_k  stoch_rsi_d\n",
       "count  969.000000  969.000000  969.000000  969.000000  9.690000e+02   969.000000   969.000000\n",
       "mean    45.129247   45.583560   44.633065   45.080640  9.055188e+07     0.509101     0.509706\n",
       "std      5.618712    5.630334    5.573433    5.613978  7.800680e+07     0.335544     0.321900\n",
       "min     31.090000   31.620000   30.910000   31.220000  0.000000e+00     0.000000     0.000000\n",
       "25%     41.890000   42.470000   41.390000   41.770000  4.383352e+07     0.177771     0.196510\n",
       "50%     44.780000   45.090000   44.340000   44.780000  6.386980e+07     0.531369     0.536655\n",
       "75%     49.190000   49.540000   48.440000   49.070000  1.060646e+08     0.822193     0.810979\n",
       "max     58.150000   59.730000   56.660000   58.070000  6.885352e+08     1.000000     1.000000"
      ]
     },
     "execution_count": 602,
     "metadata": {},
     "output_type": "execute_result"
    }
   ],
   "source": [
    "# Check the distribution of input features\n",
    "data[features].describe()"
   ]
  },
  {
   "cell_type": "markdown",
   "metadata": {},
   "source": [
    "Looking at these details, it's noticeable and anticipated that all price values exhibit similar distributions given they log the price fluctuation on daily basis.\n",
    "\n",
    "Conversely, the trading volume presents a distinct distribution that differs significantly.\n",
    "\n",
    "Accordingly, input features need to be transformed into a unified scale and since the distribution doesn't indicate any outliers, we will use the [0,1] range to normalize all features.\n",
    "\n",
    "To prevent data leakage, we will fit the scaler solely to the training data. Subsequently, we will use this fitted scaler to transform the training, validation, and testing datasets."
   ]
  },
  {
   "cell_type": "code",
   "execution_count": 603,
   "metadata": {},
   "outputs": [],
   "source": [
    "# Initialize scaler with range [0,1]\n",
    "sc = MinMaxScaler(feature_range=(0,1))\n",
    "\n",
    "# Fit and transform scaler to training set\n",
    "data_train_scaled = sc.fit_transform(data_train)\n",
    "\n",
    "# Transform validating and testing datasets\n",
    "data_validate_scaled = sc.transform(data_validate)\n",
    "data_test_scaled = sc.transform(data_test)\n",
    "\n",
    "data_predict_scaled = sc.transform(data_predict)"
   ]
  },
  {
   "cell_type": "markdown",
   "metadata": {},
   "source": [
    "The scaler employed here will also be utilized in subsequent phases to revert the scaled data back to its original distribution. Therefore, it is essential to save this scaler to a local folder for future use."
   ]
  },
  {
   "cell_type": "code",
   "execution_count": 604,
   "metadata": {},
   "outputs": [
    {
     "data": {
      "text/plain": [
       "['/Users/nguyenconghung/Documents/PYTHON/lstm-stock-price-prediction/models/2303_stock_price_scaler.gz']"
      ]
     },
     "execution_count": 604,
     "metadata": {},
     "output_type": "execute_result"
    }
   ],
   "source": [
    "# Prepare scaler model name and location\n",
    "scaler_model_location = \"..//models//\"\n",
    "scaler_model_name = \"google_stock_price_scaler\"\n",
    "scaler_model_ext = \"gz\"\n",
    "\n",
    "# Store scaler model\n",
    "joblib.dump(sc, '/Users/nguyenconghung/Documents/PYTHON/lstm-stock-price-prediction/models/2303_stock_price_scaler.gz')"
   ]
  },
  {
   "cell_type": "markdown",
   "metadata": {},
   "source": [
    "### 4. STORING PROCESSED DATASETS"
   ]
  },
  {
   "cell_type": "markdown",
   "metadata": {},
   "source": [
    "The training, validation, and testing datasets have been processed and are prepared for training the LSTM model in the next phase.\n",
    "\n",
    "Prior to saving these datasets, it is necessary to reassemble the dates corresponding to each dataset. This will facilitate later evaluation of the model's performance."
   ]
  },
  {
   "cell_type": "code",
   "execution_count": 605,
   "metadata": {},
   "outputs": [],
   "source": [
    "# Combine dates with each corresponding dataset\n",
    "data_train_scaled_final = pd.DataFrame(data_train_scaled, columns=features, index=None)\n",
    "data_train_scaled_final[\"Date\"] = data_train_dates.values\n",
    "\n",
    "data_validate_scaled_final = pd.DataFrame(data_validate_scaled, columns=features, index=None)\n",
    "data_validate_scaled_final[\"Date\"] = data_validate_dates.values\n",
    "\n",
    "data_test_scaled_final = pd.DataFrame(data_test_scaled, columns=features, index=None)\n",
    "data_test_scaled_final[\"Date\"] = data_test_dates.values\n",
    "\n",
    "data_predict_scaled_final = pd.DataFrame(data_predict_scaled, columns=features, index=None)\n",
    "data_predict_scaled_final[\"Date\"] = data_predict_dates.values"
   ]
  },
  {
   "cell_type": "code",
   "execution_count": 606,
   "metadata": {},
   "outputs": [],
   "source": [
    "# Prepare datasets files and location\n",
    "data_file_location = \"/Users/nguyenconghung/Documents/PYTHON/lstm-stock-price-prediction/data/processed/\"\n",
    "data_file_name_train = \"2303_stock_price_processed_train\"\n",
    "data_file_name_validate = \"2303_stock_price_processed_validate\"\n",
    "data_file_name_test = \"2303_stock_price_processed_test\"\n",
    "data_file_name_predict = \"2303_stock_price_processed_predict\"\n",
    "data_file_ext = \"csv\"\n",
    "\n",
    "# Store datasets\n",
    "data_train_scaled_final.to_csv(data_file_location + data_file_name_train + \".\" + data_file_ext, index=None)\n",
    "data_validate_scaled_final.to_csv(data_file_location + data_file_name_validate + \".\" + data_file_ext, index=None)\n",
    "data_test_scaled_final.to_csv(data_file_location + data_file_name_test + \".\" + data_file_ext, index=None)\n",
    "data_predict_scaled_final.to_csv(data_file_location + data_file_name_predict + \".\" + data_file_ext, index=None)"
   ]
  }
 ],
 "metadata": {
  "kernelspec": {
   "display_name": "Python 3",
   "language": "python",
   "name": "python3"
  },
  "language_info": {
   "codemirror_mode": {
    "name": "ipython",
    "version": 3
   },
   "file_extension": ".py",
   "mimetype": "text/x-python",
   "name": "python",
   "nbconvert_exporter": "python",
   "pygments_lexer": "ipython3",
   "version": "3.9.6"
  }
 },
 "nbformat": 4,
 "nbformat_minor": 2
}
