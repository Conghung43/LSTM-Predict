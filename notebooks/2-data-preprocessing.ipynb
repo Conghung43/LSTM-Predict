{
 "cells": [
  {
   "cell_type": "markdown",
   "metadata": {},
   "source": [
    "# LSTM Time Series - Stock Price Prediction\n",
    "## Part 2 - Data Preprocessing\n",
    "In this notebook, we load the filtered data set file containing the historical prices of Google stocks for the last five years and preprocess it.\n",
    "\n",
    "> **INPUT**: The filtered data set file of the last five years stock prices for Google, as filtered in the previous phase. <br/>\n",
    "> **OUTPUT**: The preprocessed and transformed data, split into training, validation, and testing subsets, and stored in an intermediary location for the training phase."
   ]
  }
 ],
 "metadata": {
  "language_info": {
   "name": "python"
  }
 },
 "nbformat": 4,
 "nbformat_minor": 2
}
