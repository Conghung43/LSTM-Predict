{
 "cells": [
  {
   "cell_type": "markdown",
   "metadata": {},
   "source": [
    "# LSTM Time Series - Stock Price Prediction\n",
    "## Part 2 - Data Preprocessing\n",
    "In this notebook, we load the filtered data set file containing the historical prices of Google stocks for the last five years and preprocess it.\n",
    "\n",
    "> **INPUT**: The filtered data set file of the last five years of Google's stock prices, as filtered in the previous phase. <br/>\n",
    "> **OUTPUT**: The preprocessed and transformed data, split into training, validation, and testing subsets, and stored in an intermediary location for the training phase."
   ]
  },
  {
   "cell_type": "markdown",
   "metadata": {},
   "source": [
    "### 1. INITIALIZATION"
   ]
  },
  {
   "cell_type": "code",
   "execution_count": 1,
   "metadata": {},
   "outputs": [],
   "source": [
    "# Import necessary libraries and modules\n",
    "import pandas as pd\n",
    "from sklearn.preprocessing import MinMaxScaler\n",
    "import matplotlib.pyplot as plt"
   ]
  },
  {
   "cell_type": "code",
   "execution_count": 2,
   "metadata": {},
   "outputs": [],
   "source": [
    "# Set output width\n",
    "pd.set_option(\"display.width\", 120)"
   ]
  },
  {
   "cell_type": "markdown",
   "metadata": {},
   "source": [
    "### 2. LOADING DATASET"
   ]
  },
  {
   "cell_type": "code",
   "execution_count": 3,
   "metadata": {},
   "outputs": [],
   "source": [
    "# Prepare data file location and name\n",
    "data_file_location = \"..//data//interim//\"\n",
    "data_file_name = \"google_stock_price_recent\"\n",
    "data_file_ext = \"csv\"\n",
    "\n",
    "# Load data file\n",
    "data = pd.read_csv(data_file_location + data_file_name + \".\" + data_file_ext)"
   ]
  },
  {
   "cell_type": "code",
   "execution_count": 4,
   "metadata": {},
   "outputs": [
    {
     "data": {
      "text/plain": [
       "(1323, 7)"
      ]
     },
     "execution_count": 4,
     "metadata": {},
     "output_type": "execute_result"
    }
   ],
   "source": [
    "# Check loaded data shape\n",
    "data.shape"
   ]
  },
  {
   "cell_type": "code",
   "execution_count": 5,
   "metadata": {},
   "outputs": [
    {
     "data": {
      "text/html": [
       "<div>\n",
       "<style scoped>\n",
       "    .dataframe tbody tr th:only-of-type {\n",
       "        vertical-align: middle;\n",
       "    }\n",
       "\n",
       "    .dataframe tbody tr th {\n",
       "        vertical-align: top;\n",
       "    }\n",
       "\n",
       "    .dataframe thead th {\n",
       "        text-align: right;\n",
       "    }\n",
       "</style>\n",
       "<table border=\"1\" class=\"dataframe\">\n",
       "  <thead>\n",
       "    <tr style=\"text-align: right;\">\n",
       "      <th></th>\n",
       "      <th>Date</th>\n",
       "      <th>Open</th>\n",
       "      <th>High</th>\n",
       "      <th>Low</th>\n",
       "      <th>Close</th>\n",
       "      <th>Adj Close</th>\n",
       "      <th>Volume</th>\n",
       "    </tr>\n",
       "  </thead>\n",
       "  <tbody>\n",
       "    <tr>\n",
       "      <th>0</th>\n",
       "      <td>2019-01-02</td>\n",
       "      <td>50.828499</td>\n",
       "      <td>52.616001</td>\n",
       "      <td>50.785500</td>\n",
       "      <td>52.292500</td>\n",
       "      <td>52.292500</td>\n",
       "      <td>30652000</td>\n",
       "    </tr>\n",
       "    <tr>\n",
       "      <th>1</th>\n",
       "      <td>2019-01-03</td>\n",
       "      <td>52.049999</td>\n",
       "      <td>52.848999</td>\n",
       "      <td>50.703499</td>\n",
       "      <td>50.803001</td>\n",
       "      <td>50.803001</td>\n",
       "      <td>36822000</td>\n",
       "    </tr>\n",
       "    <tr>\n",
       "      <th>2</th>\n",
       "      <td>2019-01-04</td>\n",
       "      <td>51.629501</td>\n",
       "      <td>53.542000</td>\n",
       "      <td>51.370899</td>\n",
       "      <td>53.535500</td>\n",
       "      <td>53.535500</td>\n",
       "      <td>41878000</td>\n",
       "    </tr>\n",
       "    <tr>\n",
       "      <th>3</th>\n",
       "      <td>2019-01-07</td>\n",
       "      <td>53.575001</td>\n",
       "      <td>53.700001</td>\n",
       "      <td>52.737999</td>\n",
       "      <td>53.419498</td>\n",
       "      <td>53.419498</td>\n",
       "      <td>39638000</td>\n",
       "    </tr>\n",
       "    <tr>\n",
       "      <th>4</th>\n",
       "      <td>2019-01-08</td>\n",
       "      <td>53.805500</td>\n",
       "      <td>54.228001</td>\n",
       "      <td>53.026501</td>\n",
       "      <td>53.813999</td>\n",
       "      <td>53.813999</td>\n",
       "      <td>35298000</td>\n",
       "    </tr>\n",
       "  </tbody>\n",
       "</table>\n",
       "</div>"
      ],
      "text/plain": [
       "         Date       Open       High        Low      Close  Adj Close    Volume\n",
       "0  2019-01-02  50.828499  52.616001  50.785500  52.292500  52.292500  30652000\n",
       "1  2019-01-03  52.049999  52.848999  50.703499  50.803001  50.803001  36822000\n",
       "2  2019-01-04  51.629501  53.542000  51.370899  53.535500  53.535500  41878000\n",
       "3  2019-01-07  53.575001  53.700001  52.737999  53.419498  53.419498  39638000\n",
       "4  2019-01-08  53.805500  54.228001  53.026501  53.813999  53.813999  35298000"
      ]
     },
     "execution_count": 5,
     "metadata": {},
     "output_type": "execute_result"
    }
   ],
   "source": [
    "# Check loaded data head\n",
    "data.head()"
   ]
  },
  {
   "cell_type": "code",
   "execution_count": 6,
   "metadata": {},
   "outputs": [
    {
     "data": {
      "text/plain": [
       "Date          object\n",
       "Open         float64\n",
       "High         float64\n",
       "Low          float64\n",
       "Close        float64\n",
       "Adj Close    float64\n",
       "Volume         int64\n",
       "dtype: object"
      ]
     },
     "execution_count": 6,
     "metadata": {},
     "output_type": "execute_result"
    }
   ],
   "source": [
    "# Check columns types\n",
    "data.dtypes"
   ]
  },
  {
   "cell_type": "markdown",
   "metadata": {},
   "source": [
    "### 3. DATA PREPROCESSING"
   ]
  },
  {
   "cell_type": "markdown",
   "metadata": {},
   "source": [
    "#### Validate Data Types"
   ]
  },
  {
   "cell_type": "code",
   "execution_count": 7,
   "metadata": {},
   "outputs": [
    {
     "data": {
      "text/plain": [
       "Date         datetime64[ns]\n",
       "Open                float64\n",
       "High                float64\n",
       "Low                 float64\n",
       "Close               float64\n",
       "Adj Close           float64\n",
       "Volume                int64\n",
       "dtype: object"
      ]
     },
     "execution_count": 7,
     "metadata": {},
     "output_type": "execute_result"
    }
   ],
   "source": [
    "# Convert date column to a valid Datetime format\n",
    "data[\"Date\"] = pd.to_datetime(data[\"Date\"])\n",
    "\n",
    "# Check column types\n",
    "data.dtypes"
   ]
  },
  {
   "cell_type": "markdown",
   "metadata": {},
   "source": [
    "#### Select Independent Features"
   ]
  },
  {
   "cell_type": "markdown",
   "metadata": {},
   "source": [
    "The objective of this analysis is to implement a multi-variant prediction, taking into account possible impact of several independent features such as the Open price, Close price and Volume on future stock price performance.\n",
    "\n",
    "For this reason, we will consider in this analysis all available variables: \n",
    "- Opening price\n",
    "- Highest price\n",
    "- Lowest price\n",
    "- Closing price\n",
    "- Adjusted closing price\n",
    "- Trading volume\n",
    "\n",
    "These features will be used to predict the future closing price."
   ]
  },
  {
   "cell_type": "code",
   "execution_count": 8,
   "metadata": {},
   "outputs": [],
   "source": [
    "# Define selected features and target attribute\n",
    "features = [\"Open\", \"High\", \"Low\",\t\"Close\", \"Adj Close\", \"Volume\"]\n",
    "target = \"Open\""
   ]
  },
  {
   "cell_type": "markdown",
   "metadata": {},
   "source": [
    "#### Split Data into Train, Validation, and Test"
   ]
  },
  {
   "cell_type": "markdown",
   "metadata": {},
   "source": [
    "In order to track and validate the performance of our model, we will divide the available dataset of recent stock prices into three parts: training, validation, and testing sets.\n",
    "\n",
    "The split will be as follows:\n",
    "- **Training dataset:** covering the period from the start of 2019 to October, 2023.\n",
    "- **Validation dataset:** representing the stock prices from November, 2023 till the first month of 2024.\n",
    "- **Testing dataset:** representing the stock prices of the second month of 2024."
   ]
  },
  {
   "cell_type": "code",
   "execution_count": 9,
   "metadata": {},
   "outputs": [],
   "source": [
    "# Define start and end time for each period\n",
    "# train_end_date = pd.to_datetime(\"2023-10-31\")\n",
    "# validate_start_date = pd.to_datetime(\"2023-11-01\")\n",
    "# validate_end_date = pd.to_datetime(\"2024-01-31\")\n",
    "# test_start_date = pd.to_datetime(\"2024-02-01\")\n",
    "# test_end_date = pd.to_datetime(\"2024-02-29\")\n",
    "\n",
    "train_end_date = pd.to_datetime(\"2023-9-30\")\n",
    "validate_start_date = pd.to_datetime(\"2023-10-01\")\n",
    "validate_end_date = pd.to_datetime(\"2024-01-31\")\n",
    "test_start_date = pd.to_datetime(\"2024-02-01\")\n",
    "test_end_date = pd.to_datetime(\"2024-02-29\")\n",
    "\n",
    "# Split dataset into training, validation, and testing\n",
    "data_train = data[data[\"Date\"] <= train_end_date][features]\n",
    "data_train_dates = data[data[\"Date\"] <= train_end_date][\"Date\"]\n",
    "data_validate = data[(data[\"Date\"] >= validate_start_date) & (data[\"Date\"] <= validate_end_date)][features]\n",
    "data_validate_dates = data[(data[\"Date\"] >= validate_start_date) & (data[\"Date\"] <= validate_end_date)][\"Date\"]\n",
    "data_test = data[(data[\"Date\"] >= test_start_date) & (data[\"Date\"] <= test_end_date)][features]\n",
    "data_test_dates = data[(data[\"Date\"] >= test_start_date) & (data[\"Date\"] <= test_end_date)][\"Date\"]"
   ]
  },
  {
   "cell_type": "code",
   "execution_count": 10,
   "metadata": {},
   "outputs": [
    {
     "name": "stdout",
     "output_type": "stream",
     "text": [
      "Training Set: (1195, 6)\n",
      "Validation Set: (84, 6)\n",
      "Testing Set: (20, 6)\n"
     ]
    }
   ],
   "source": [
    "# Display the shape of each dataset\n",
    "print(f\"Training Set: {data_train.shape}\")\n",
    "print(f\"Validation Set: {data_validate.shape}\")\n",
    "print(f\"Testing Set: {data_test.shape}\")"
   ]
  },
  {
   "cell_type": "code",
   "execution_count": 11,
   "metadata": {},
   "outputs": [
    {
     "name": "stdout",
     "output_type": "stream",
     "text": [
      "Training Dataset:\n",
      "        Open       High        Low      Close  Adj Close    Volume\n",
      "0  50.828499  52.616001  50.785500  52.292500  52.292500  30652000\n",
      "1  52.049999  52.848999  50.703499  50.803001  50.803001  36822000\n",
      "2  51.629501  53.542000  51.370899  53.535500  53.535500  41878000\n",
      "3  53.575001  53.700001  52.737999  53.419498  53.419498  39638000\n",
      "4  53.805500  54.228001  53.026501  53.813999  53.813999  35298000\n",
      "Validation Dataset:\n",
      "            Open        High         Low       Close   Adj Close    Volume\n",
      "1195  132.154999  135.360001  132.065002  135.169998  135.169998  19210400\n",
      "1196  134.929993  135.240005  132.815002  133.300003  133.300003  19628700\n",
      "1197  133.660004  136.570007  133.429993  136.270004  136.270004  22848000\n",
      "1198  136.130005  136.500000  134.455002  135.990005  135.990005  15922900\n",
      "1199  134.940002  139.186005  134.940002  138.729996  138.729996  20819300\n",
      "Testing Dataset:\n",
      "            Open        High         Low       Close   Adj Close    Volume\n",
      "1279  143.690002  144.619995  142.259995  142.710007  142.710007  25526900\n",
      "1280  140.889999  143.880005  138.169998  143.539993  143.539993  42116900\n",
      "1281  144.039993  146.669998  143.910004  144.929993  144.929993  29254400\n",
      "1282  145.960007  146.740005  144.520004  145.410004  145.410004  21517700\n",
      "1283  146.119995  147.000000  145.210007  146.679993  146.679993  21436100\n"
     ]
    }
   ],
   "source": [
    "# Display a summary of each dataset\n",
    "print(\"Training Dataset:\")\n",
    "print(data_train.head())\n",
    "print(\"Validation Dataset:\")\n",
    "print(data_validate.head())\n",
    "print(\"Testing Dataset:\")\n",
    "print(data_test.head())"
   ]
  },
  {
   "cell_type": "code",
   "execution_count": 12,
   "metadata": {},
   "outputs": [
    {
     "data": {
      "image/png": "[encoded data removed]",
      "text/plain": [
       "<Figure size 1800x600 with 1 Axes>"
      ]
     },
     "metadata": {},
     "output_type": "display_data"
    }
   ],
   "source": [
    "# Plot the stock price for each of the data splits\n",
    "plt.figure(figsize=(18,6))\n",
    "plt.plot(data_train_dates, data_train[\"Open\"])\n",
    "plt.plot(data_validate_dates, data_validate[\"Open\"], color=\"orange\")\n",
    "plt.plot(data_test_dates, data_test[\"Open\"], color=\"red\")\n",
    "plt.legend([\"Train Data\", \"Validation Data\", \"Test Data\"])\n",
    "plt.title(\"Data Split for Google Stock Price\")\n",
    "plt.xlabel(\"Samples Over Time\")\n",
    "plt.ylabel(\"Price (USD)\")\n",
    "plt.grid()"
   ]
  },
  {
   "cell_type": "markdown",
   "metadata": {},
   "source": [
    "#### Data Scaling"
   ]
  },
  {
   "cell_type": "code",
   "execution_count": 13,
   "metadata": {},
   "outputs": [
    {
     "data": {
      "text/html": [
       "<div>\n",
       "<style scoped>\n",
       "    .dataframe tbody tr th:only-of-type {\n",
       "        vertical-align: middle;\n",
       "    }\n",
       "\n",
       "    .dataframe tbody tr th {\n",
       "        vertical-align: top;\n",
       "    }\n",
       "\n",
       "    .dataframe thead th {\n",
       "        text-align: right;\n",
       "    }\n",
       "</style>\n",
       "<table border=\"1\" class=\"dataframe\">\n",
       "  <thead>\n",
       "    <tr style=\"text-align: right;\">\n",
       "      <th></th>\n",
       "      <th>Open</th>\n",
       "      <th>High</th>\n",
       "      <th>Low</th>\n",
       "      <th>Close</th>\n",
       "      <th>Adj Close</th>\n",
       "      <th>Volume</th>\n",
       "    </tr>\n",
       "  </thead>\n",
       "  <tbody>\n",
       "    <tr>\n",
       "      <th>count</th>\n",
       "      <td>1323.000000</td>\n",
       "      <td>1323.000000</td>\n",
       "      <td>1323.000000</td>\n",
       "      <td>1323.000000</td>\n",
       "      <td>1323.000000</td>\n",
       "      <td>1.323000e+03</td>\n",
       "    </tr>\n",
       "    <tr>\n",
       "      <th>mean</th>\n",
       "      <td>100.882880</td>\n",
       "      <td>102.042442</td>\n",
       "      <td>99.853834</td>\n",
       "      <td>100.974635</td>\n",
       "      <td>100.974635</td>\n",
       "      <td>2.882756e+07</td>\n",
       "    </tr>\n",
       "    <tr>\n",
       "      <th>std</th>\n",
       "      <td>31.078299</td>\n",
       "      <td>31.360869</td>\n",
       "      <td>30.780336</td>\n",
       "      <td>31.059813</td>\n",
       "      <td>31.059813</td>\n",
       "      <td>1.268332e+07</td>\n",
       "    </tr>\n",
       "    <tr>\n",
       "      <th>min</th>\n",
       "      <td>50.828499</td>\n",
       "      <td>52.374500</td>\n",
       "      <td>50.676800</td>\n",
       "      <td>50.803001</td>\n",
       "      <td>50.803001</td>\n",
       "      <td>6.936000e+06</td>\n",
       "    </tr>\n",
       "    <tr>\n",
       "      <th>25%</th>\n",
       "      <td>71.211247</td>\n",
       "      <td>71.905250</td>\n",
       "      <td>70.356251</td>\n",
       "      <td>70.992001</td>\n",
       "      <td>70.992001</td>\n",
       "      <td>2.076335e+07</td>\n",
       "    </tr>\n",
       "    <tr>\n",
       "      <th>50%</th>\n",
       "      <td>102.825996</td>\n",
       "      <td>103.927498</td>\n",
       "      <td>101.500000</td>\n",
       "      <td>102.751503</td>\n",
       "      <td>102.751503</td>\n",
       "      <td>2.575600e+07</td>\n",
       "    </tr>\n",
       "    <tr>\n",
       "      <th>75%</th>\n",
       "      <td>130.778503</td>\n",
       "      <td>132.021675</td>\n",
       "      <td>129.389999</td>\n",
       "      <td>130.440002</td>\n",
       "      <td>130.440002</td>\n",
       "      <td>3.287305e+07</td>\n",
       "    </tr>\n",
       "    <tr>\n",
       "      <th>max</th>\n",
       "      <td>155.080002</td>\n",
       "      <td>157.000000</td>\n",
       "      <td>154.132004</td>\n",
       "      <td>156.500000</td>\n",
       "      <td>156.500000</td>\n",
       "      <td>1.241400e+08</td>\n",
       "    </tr>\n",
       "  </tbody>\n",
       "</table>\n",
       "</div>"
      ],
      "text/plain": [
       "              Open         High          Low        Close    Adj Close        Volume\n",
       "count  1323.000000  1323.000000  1323.000000  1323.000000  1323.000000  1.323000e+03\n",
       "mean    100.882880   102.042442    99.853834   100.974635   100.974635  2.882756e+07\n",
       "std      31.078299    31.360869    30.780336    31.059813    31.059813  1.268332e+07\n",
       "min      50.828499    52.374500    50.676800    50.803001    50.803001  6.936000e+06\n",
       "25%      71.211247    71.905250    70.356251    70.992001    70.992001  2.076335e+07\n",
       "50%     102.825996   103.927498   101.500000   102.751503   102.751503  2.575600e+07\n",
       "75%     130.778503   132.021675   129.389999   130.440002   130.440002  3.287305e+07\n",
       "max     155.080002   157.000000   154.132004   156.500000   156.500000  1.241400e+08"
      ]
     },
     "execution_count": 13,
     "metadata": {},
     "output_type": "execute_result"
    }
   ],
   "source": [
    "# Check the distribution of input features\n",
    "data[features].describe()"
   ]
  },
  {
   "cell_type": "markdown",
   "metadata": {},
   "source": [
    "Looking at these details, it's noticeable and anticipated that all price values have similar distributions given they log the price fluctuation on daily basis.\n",
    "\n",
    "Nevertheless, the trading volume represents a different aspect and it has a completely distinct distribution. \n",
    "\n",
    "Accordingly, input features need to be transformed into a unified scale and since the distribution doesn't indicate any outliers, we will use the [0,1] range to represent all features.\n",
    "\n",
    "To avoid data leakage, we fit the scaler to the training data only and then use this scaler to transform training, validation and testing datasets. "
   ]
  },
  {
   "cell_type": "code",
   "execution_count": 14,
   "metadata": {},
   "outputs": [],
   "source": [
    "# Initialize scaler with range [0,1]\n",
    "sc = MinMaxScaler(feature_range=(0,1))\n",
    "\n",
    "# Fit and transform training dataset\n",
    "data_train_scaled = sc.fit_transform(data_train)\n",
    "\n",
    "# Transform validating and testing datasets\n",
    "data_validate_scaled = sc.transform(data_validate)\n",
    "data_test_scaled = sc.transform(data_test)"
   ]
  },
  {
   "cell_type": "markdown",
   "metadata": {},
   "source": [
    "### 4. STORING PROCESSED DATASETS"
   ]
  },
  {
   "cell_type": "markdown",
   "metadata": {},
   "source": [
    "Training, validation, and testing datasets are processed and ready to be used for training the LSTM model in the next phase.\n",
    "\n",
    "Before saving the datasets, we need first to recombine the dates for each corresponding datasets to be used later in the model performance evaluation."
   ]
  },
  {
   "cell_type": "code",
   "execution_count": 15,
   "metadata": {},
   "outputs": [],
   "source": [
    "# Combine dates with each corresponding dataset\n",
    "data_train_scaled_final = pd.DataFrame(data_train_scaled, columns=features, index=None)\n",
    "data_train_scaled_final[\"Date\"] = data_train_dates.values\n",
    "\n",
    "data_validate_scaled_final = pd.DataFrame(data_validate_scaled, columns=features, index=None)\n",
    "data_validate_scaled_final[\"Date\"] = data_validate_dates.values\n",
    "\n",
    "data_test_scaled_final = pd.DataFrame(data_test_scaled, columns=features, index=None)\n",
    "data_test_scaled_final[\"Date\"] = data_test_dates.values"
   ]
  },
  {
   "cell_type": "code",
   "execution_count": 16,
   "metadata": {},
   "outputs": [],
   "source": [
    "# Prepare datasets files and location\n",
    "data_file_location = \"..//data//processed//\"\n",
    "data_file_name_train = \"google_stock_price_processed_train\"\n",
    "data_file_name_validate = \"google_stock_price_processed_validate\"\n",
    "data_file_name_test = \"google_stock_price_processed_test\"\n",
    "data_file_ext = \"csv\"\n",
    "\n",
    "# Store datasets\n",
    "data_train_scaled_final.to_csv(data_file_location + data_file_name_train + \".\" + data_file_ext, index=None)\n",
    "data_validate_scaled_final.to_csv(data_file_location + data_file_name_validate + \".\" + data_file_ext, index=None)\n",
    "data_test_scaled_final.to_csv(data_file_location + data_file_name_test + \".\" + data_file_ext, index=None)"
   ]
  }
 ],
 "metadata": {
  "kernelspec": {
   "display_name": "dl_course",
   "language": "python",
   "name": "python3"
  },
  "language_info": {
   "codemirror_mode": {
    "name": "ipython",
    "version": 3
   },
   "file_extension": ".py",
   "mimetype": "text/x-python",
   "name": "python",
   "nbconvert_exporter": "python",
   "pygments_lexer": "ipython3",
   "version": "3.11.8"
  }
 },
 "nbformat": 4,
 "nbformat_minor": 2
}
