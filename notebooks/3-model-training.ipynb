{
 "cells": [
  {
   "cell_type": "markdown",
   "metadata": {},
   "source": [
    "# LSTM Time Series - Stock Price Prediction\n",
    "## Part 3 - Model Training\n",
    "In this notebook, we load the scaled data set files, convert them to format compatible with LSTM model and then train the model.\n",
    "\n",
    "> **INPUT**: The SCALED data set files for training, validation, and testing periods as processed in the previous phase. <br/>\n",
    "> **OUTPUT**: The trained LSTM model and analysis of its performance."
   ]
  },
  {
   "cell_type": "markdown",
   "metadata": {},
   "source": [
    "### 1. INITIALIZATION"
   ]
  },
  {
   "cell_type": "code",
   "execution_count": 1,
   "metadata": {},
   "outputs": [],
   "source": [
    "# Import necessary libraries and modules\n",
    "import pandas as pd\n",
    "import numpy as np\n",
    "import matplotlib.pyplot as plt"
   ]
  },
  {
   "cell_type": "markdown",
   "metadata": {},
   "source": [
    "### 2. LOADING DATASETS"
   ]
  },
  {
   "cell_type": "code",
   "execution_count": 2,
   "metadata": {},
   "outputs": [],
   "source": [
    "# Prepare data file location and name\n",
    "data_file_location = \"..//data//processed//\"\n",
    "data_file_name_train = \"google_stock_price_processed_train\"\n",
    "data_file_name_validate = \"google_stock_price_processed_validate\"\n",
    "data_file_name_test = \"google_stock_price_processed_test\"\n",
    "data_file_ext = \"csv\"\n",
    "\n",
    "# Load data files\n",
    "data_train_df = pd.read_csv(data_file_location + data_file_name_train + \".\" + data_file_ext)\n",
    "data_validate_df = pd.read_csv(data_file_location + data_file_name_validate + \".\" + data_file_ext)\n",
    "data_test_df = pd.read_csv(data_file_location + data_file_name_test + \".\" + data_file_ext)"
   ]
  },
  {
   "cell_type": "code",
   "execution_count": 3,
   "metadata": {},
   "outputs": [
    {
     "name": "stdout",
     "output_type": "stream",
     "text": [
      "Training Dataset Shape: (1258, 7)\n",
      "Validation Dataset Shape: (21, 7)\n",
      "Testing Dataset Shape: (20, 7)\n"
     ]
    }
   ],
   "source": [
    "# Check loaded datasets shape\n",
    "print(f\"Training Dataset Shape: {data_train_df.shape}\")\n",
    "print(f\"Validation Dataset Shape: {data_validate_df.shape}\")\n",
    "print(f\"Testing Dataset Shape: {data_test_df.shape}\")"
   ]
  },
  {
   "cell_type": "code",
   "execution_count": 4,
   "metadata": {},
   "outputs": [
    {
     "name": "stdout",
     "output_type": "stream",
     "text": [
      "Training Dataset:\n",
      "       Open      High       Low     Close  Adj Close    Volume        Date\n",
      "0  0.000000  0.002422  0.001096  0.014909   0.014909  0.202348  2019-01-02\n",
      "1  0.012090  0.004758  0.000269  0.000000   0.000000  0.254991  2019-01-03\n",
      "2  0.007928  0.011707  0.006996  0.027351   0.027351  0.298130  2019-01-04\n",
      "3  0.027184  0.013291  0.020776  0.026190   0.026190  0.279018  2019-01-07\n",
      "4  0.029465  0.018586  0.023684  0.030138   0.030138  0.241988  2019-01-08\n",
      "Validation Dataset:\n",
      "       Open      High       Low     Close  Adj Close    Volume        Date\n",
      "0  0.878621  0.884834  0.877559  0.888405   0.888405  0.112077  2024-01-02\n",
      "1  0.868724  0.889597  0.884513  0.896413   0.896413  0.102712  2024-01-03\n",
      "2  0.881096  0.885034  0.880280  0.873191   0.873191  0.096561  2024-01-04\n",
      "3  0.866269  0.866734  0.868588  0.866685   0.866685  0.072499  2024-01-05\n",
      "4  0.862785  0.885084  0.878970  0.898114   0.898114  0.091373  2024-01-08\n",
      "Testing Dataset:\n",
      "       Open      High       Low     Close  Adj Close    Volume        Date\n",
      "0  0.919102  0.924994  0.923118  0.919935   0.919935  0.158620  2024-02-01\n",
      "1  0.891389  0.917574  0.881893  0.928242   0.928242  0.300168  2024-02-02\n",
      "2  0.922566  0.945550  0.939750  0.942156   0.942156  0.190424  2024-02-05\n",
      "3  0.941570  0.946252  0.945898  0.946960   0.946960  0.124413  2024-02-06\n",
      "4  0.943153  0.948860  0.952853  0.959672   0.959672  0.123717  2024-02-07\n"
     ]
    }
   ],
   "source": [
    "# Display a summary of each dataset\n",
    "print(\"Training Dataset:\")\n",
    "print(data_train_df.head())\n",
    "print(\"Validation Dataset:\")\n",
    "print(data_validate_df.head())\n",
    "print(\"Testing Dataset:\")\n",
    "print(data_test_df.head())"
   ]
  },
  {
   "cell_type": "markdown",
   "metadata": {},
   "source": [
    "### 3. CONSTRUCTING DATA STRUCTURE"
   ]
  },
  {
   "cell_type": "markdown",
   "metadata": {},
   "source": [
    "Since we are dealing with a time series problem with multiple predictors, we need to construct the input data and reshape it to fit into the LSTM model.\n",
    "\n",
    "This requires specifying a sliding time window (sequence size) that defines the total number of previous observations to predict the next value.\n",
    "\n",
    "In this experiment, we consider a sequence size of 60 prior samples (financial days) to predict the opening price in the next day."
   ]
  },
  {
   "cell_type": "code",
   "execution_count": 5,
   "metadata": {},
   "outputs": [],
   "source": [
    "# Extract dates and features from each dataset\n",
    "data_train_dates = data_train_df[\"Date\"]\n",
    "data_validate_dates = data_validate_df[\"Date\"]\n",
    "data_test_dates = data_test_df[\"Date\"]\n",
    "\n",
    "# Extract features into numpy array\n",
    "features = [\"Open\", \"High\", \"Low\",\t\"Close\", \"Adj Close\", \"Volume\"]\n",
    "data_train_scaled = data_train_df[features].values\n",
    "data_validate_scaled = data_validate_df[features].values\n",
    "data_test_scaled = data_test_df[features].values"
   ]
  },
  {
   "cell_type": "code",
   "execution_count": 6,
   "metadata": {},
   "outputs": [],
   "source": [
    "# Define a method to construct the input data X and Y\n",
    "def construct_lstm_data(data, sequence_size, target_attr_idx):\n",
    "    \"\"\"\n",
    "    Construct input data (X) and target data (y) for LSTM model from a pandas DataFrame.\n",
    "\n",
    "    Parameters:\n",
    "    -----------\n",
    "    data : numpy.ndarray\n",
    "        Input data array of shape (n_samples, n_features).\n",
    "    \n",
    "    sequence_size : int\n",
    "        Number of previous time steps to use as input features for predicting the next time step.\n",
    "    \n",
    "    target_attr_idx : int\n",
    "        Index of column in `data` DataFrame that corresponds to target attribute that LSTM model will predict.\n",
    "\n",
    "    Returns:\n",
    "    --------\n",
    "    data_X : numpy.ndarray\n",
    "        Array of LSTM input sequences of shape (n_samples - sequence_size, sequence_size, n_features).\n",
    "\n",
    "    data_y : numpy.ndarray\n",
    "        Corresponding target values for each input sequence of shape (n_samples - sequence_size,).\n",
    "    \"\"\"\n",
    "    \n",
    "    # Initialize constructed data variables\n",
    "    data_X = []\n",
    "    data_y = []\n",
    "    \n",
    "    # Iterate over the dataset\n",
    "    for i in range(sequence_size, len(data)):\n",
    "        data_X.append(data[i-sequence_size:i,0:data.shape[1]])\n",
    "        data_y.append(data[i,target_attr_idx])\n",
    "        \n",
    "    # Return constructed variables\n",
    "    return np.array(data_X), np.array(data_y)"
   ]
  },
  {
   "cell_type": "markdown",
   "metadata": {},
   "source": [
    "The construction function is currently available for constructing subsets for training, validation, and testing date that is aligned with the LSTM model input."
   ]
  },
  {
   "cell_type": "code",
   "execution_count": 7,
   "metadata": {},
   "outputs": [],
   "source": [
    "# Define the sequence size\n",
    "sequence_size = 60\n",
    "\n",
    "# Construct training data\n",
    "X_train, y_train = construct_lstm_data(data_train_scaled, sequence_size, 0)"
   ]
  },
  {
   "cell_type": "markdown",
   "metadata": {},
   "source": [
    "Because creating input data requires observations from previous samples, constructing subsets for the validation and testing periods suggests we append data from previous periods.\n",
    "\n",
    "For instance, to predict the initial stock price in the validation period, we must combine recent actual stock prices (sequence) from the training period. This step is crucial for providing the LSTM model with the expected sequence.\n",
    "\n",
    "Same principle applies to stock performance during the testing phase but in this case (and depending on the sequence size), we may need to combine samples from both validation and testing subsets.\n",
    "\n",
    "To facilitate this step, we combine the whole scaled dataset together and then select corresponding chunks before constructing the input data sets."
   ]
  },
  {
   "cell_type": "code",
   "execution_count": 8,
   "metadata": {},
   "outputs": [],
   "source": [
    "# Combine scaled datasets together\n",
    "data_all_scaled = np.concatenate([data_train_scaled, data_validate_scaled, data_test_scaled], axis=0)\n",
    "\n",
    "# Calculate each data length\n",
    "train_size = len(data_train_scaled)\n",
    "validate_size = len(data_validate_scaled)\n",
    "test_size = len(data_test_scaled)\n",
    "\n",
    "# Construct validation dataset\n",
    "X_validate, y_validate = construct_lstm_data(data_all_scaled[train_size-sequence_size:train_size+validate_size,:], sequence_size, 0)\n",
    "\n",
    "# Construct testing dataset\n",
    "X_test, y_test = construct_lstm_data(data_all_scaled[-(test_size+sequence_size):,:], sequence_size, 0)"
   ]
  },
  {
   "cell_type": "code",
   "execution_count": 9,
   "metadata": {},
   "outputs": [
    {
     "name": "stdout",
     "output_type": "stream",
     "text": [
      "Full Scaled Data: (1299, 6)\n",
      "\n",
      " Data Train Scaled: (1258, 6)\n",
      "> Data Train X: (1198, 60, 6)\n",
      "> Data Train y: (1198,)\n",
      "\n",
      " Data Validate Scaled: (21, 6)\n",
      "> Data Validate X: (21, 60, 6)\n",
      "> Data Validate y: (21,)\n",
      "\n",
      " Data Test Scaled: (20, 6)\n",
      "> Data Test X: (20, 60, 6)\n",
      "> Data Test y: (20,)\n"
     ]
    }
   ],
   "source": [
    "# Check original data and data splits shapes\n",
    "print(f\"Full Scaled Data: {data_all_scaled.shape}\")\n",
    "print(f\"\\n Data Train Scaled: {data_train_scaled.shape}\")\n",
    "print(f\"> Data Train X: {X_train.shape}\")\n",
    "print(f\"> Data Train y: {y_train.shape}\")\n",
    "\n",
    "print(f\"\\n Data Validate Scaled: {data_validate_scaled.shape}\")\n",
    "print(f\"> Data Validate X: {X_validate.shape}\")\n",
    "print(f\"> Data Validate y: {y_validate.shape}\")\n",
    "\n",
    "print(f\"\\n Data Test Scaled: {data_test_scaled.shape}\")\n",
    "print(f\"> Data Test X: {X_test.shape}\")\n",
    "print(f\"> Data Test y: {y_test.shape}\")"
   ]
  }
 ],
 "metadata": {
  "kernelspec": {
   "display_name": "dl_course",
   "language": "python",
   "name": "python3"
  },
  "language_info": {
   "codemirror_mode": {
    "name": "ipython",
    "version": 3
   },
   "file_extension": ".py",
   "mimetype": "text/x-python",
   "name": "python",
   "nbconvert_exporter": "python",
   "pygments_lexer": "ipython3",
   "version": "3.11.8"
  }
 },
 "nbformat": 4,
 "nbformat_minor": 2
}
